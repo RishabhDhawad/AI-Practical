{
  "nbformat": 4,
  "nbformat_minor": 0,
  "metadata": {
    "colab": {
      "provenance": [],
      "include_colab_link": true
    },
    "kernelspec": {
      "name": "python3",
      "display_name": "Python 3"
    },
    "language_info": {
      "name": "python"
    }
  },
  "cells": [
    {
      "cell_type": "markdown",
      "metadata": {
        "id": "view-in-github",
        "colab_type": "text"
      },
      "source": [
        "<a href=\"https://colab.research.google.com/github/RishabhDhawad/AI-Practical/blob/main/Canny_Edge_Detection.ipynb\" target=\"_parent\"><img src=\"https://colab.research.google.com/assets/colab-badge.svg\" alt=\"Open In Colab\"/></a>"
      ]
    },
    {
      "cell_type": "code",
      "source": [
        "import cv2\n",
        "import numpy as np\n",
        "from google.colab.patches import cv2_imshow"
      ],
      "metadata": {
        "id": "zXxDfpzJJ_2E"
      },
      "execution_count": null,
      "outputs": []
    },
    {
      "cell_type": "code",
      "source": [
        "img= cv2.imread(\"/content/garden.webp\")"
      ],
      "metadata": {
        "id": "ivfkSSQqNYc1"
      },
      "execution_count": null,
      "outputs": []
    },
    {
      "cell_type": "code",
      "source": [
        "cv2_imshow(img),img.shape"
      ],
      "metadata": {
        "id": "ENs7ioc8Nmed"
      },
      "execution_count": null,
      "outputs": []
    },
    {
      "cell_type": "code",
      "source": [
        "canny = cv2.Canny(img,100,200)"
      ],
      "metadata": {
        "id": "xiJNHGwsNomQ"
      },
      "execution_count": null,
      "outputs": []
    },
    {
      "cell_type": "code",
      "source": [
        "cv2_imshow(canny)"
      ],
      "metadata": {
        "id": "d85M-v2vPXdo"
      },
      "execution_count": null,
      "outputs": []
    },
    {
      "cell_type": "code",
      "source": [
        "kernel = np.ones((1,1),np.uint8)"
      ],
      "metadata": {
        "id": "2e-xRZUyPhMD"
      },
      "execution_count": null,
      "outputs": []
    },
    {
      "cell_type": "code",
      "source": [
        "kernel"
      ],
      "metadata": {
        "id": "xIFlOB8NV8W6"
      },
      "execution_count": null,
      "outputs": []
    }
  ]
}