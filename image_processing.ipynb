{
  "nbformat": 4,
  "nbformat_minor": 0,
  "metadata": {
    "colab": {
      "provenance": [],
      "authorship_tag": "ABX9TyPyOTgCb5viJCt+DouRMov3",
      "include_colab_link": true
    },
    "kernelspec": {
      "name": "python3",
      "display_name": "Python 3"
    },
    "language_info": {
      "name": "python"
    }
  },
  "cells": [
    {
      "cell_type": "markdown",
      "metadata": {
        "id": "view-in-github",
        "colab_type": "text"
      },
      "source": [
        "<a href=\"https://colab.research.google.com/github/RishabhDhawad/AI-Practical/blob/main/image_processing.ipynb\" target=\"_parent\"><img src=\"https://colab.research.google.com/assets/colab-badge.svg\" alt=\"Open In Colab\"/></a>"
      ]
    },
    {
      "cell_type": "code",
      "execution_count": null,
      "metadata": {
        "id": "_axWyVq5JjkA"
      },
      "outputs": [],
      "source": [
        "import cv2\n",
        "import numpy as np\n",
        "from google.colab.patches import cv2_imshow\n",
        "import matplotlib.pyplot as plt"
      ]
    },
    {
      "cell_type": "code",
      "source": [
        "img = cv2.imread(\"/content/Dog.jpg\")"
      ],
      "metadata": {
        "id": "lzdj50UUJqpz"
      },
      "execution_count": null,
      "outputs": []
    },
    {
      "cell_type": "code",
      "source": [
        "plt.imshow(img)"
      ],
      "metadata": {
        "id": "WNg7UwCXKMJv"
      },
      "execution_count": null,
      "outputs": []
    },
    {
      "cell_type": "code",
      "source": [
        "type(img)"
      ],
      "metadata": {
        "id": "6XitlOIOKQrq"
      },
      "execution_count": null,
      "outputs": []
    },
    {
      "cell_type": "code",
      "source": [
        "img.shape"
      ],
      "metadata": {
        "id": "W5AS4lq_KVJc"
      },
      "execution_count": null,
      "outputs": []
    },
    {
      "cell_type": "code",
      "source": [
        "cv2_imshow(img)"
      ],
      "metadata": {
        "id": "LZcdUIWzKWpX"
      },
      "execution_count": null,
      "outputs": []
    },
    {
      "cell_type": "code",
      "source": [
        "img_gray  =  cv2.cvtColor(img,cv2.COLOR_BGR2GRAY)"
      ],
      "metadata": {
        "id": "3gs0P9qFKZzb"
      },
      "execution_count": null,
      "outputs": []
    },
    {
      "cell_type": "code",
      "source": [
        "cv2_imshow(img_gray)"
      ],
      "metadata": {
        "id": "eEONmRWRKkSH"
      },
      "execution_count": null,
      "outputs": []
    },
    {
      "cell_type": "code",
      "source": [
        "re_image = cv2.resize(img_gray,(300,400))  # Resize the image"
      ],
      "metadata": {
        "id": "NFkJwcH7Kw5v"
      },
      "execution_count": null,
      "outputs": []
    },
    {
      "cell_type": "code",
      "source": [
        "#cv2_imshow(re_img)\n",
        "#img [: , : , 0 ] = 0          # 0  ----->  Blue\n",
        "#img [: , : , 1] = 0           # 1 ------> Green\n",
        "#img [: , : , 2] = 0           # 2 ------> Red\n",
        "\n",
        "imgBlue = img[ : , : , 0 ]\n",
        "imgGreen = img[ : , : , 1]\n",
        "imgRed = img[ : , : , 2]"
      ],
      "metadata": {
        "id": "BTPjhXySLEPR"
      },
      "execution_count": null,
      "outputs": []
    },
    {
      "cell_type": "code",
      "source": [
        "new_img = np.hstack((imgBlue, imgGreen, imgRed))"
      ],
      "metadata": {
        "id": "s1Xf_k6XLi1_"
      },
      "execution_count": null,
      "outputs": []
    },
    {
      "cell_type": "code",
      "source": [
        "cv2_imshow(new_img)"
      ],
      "metadata": {
        "id": "TG4TGnnoLsID"
      },
      "execution_count": null,
      "outputs": []
    },
    {
      "cell_type": "code",
      "source": [
        "re_img = cv2.resize(img,(256,256))"
      ],
      "metadata": {
        "id": "Upm4mQkJL3gi"
      },
      "execution_count": null,
      "outputs": []
    },
    {
      "cell_type": "code",
      "source": [
        "cv2_imshow(re_img)"
      ],
      "metadata": {
        "id": "FP2kUVqPNOiL"
      },
      "execution_count": null,
      "outputs": []
    },
    {
      "cell_type": "code",
      "source": [
        "img_flip = cv2.flip(img, -1)\n",
        "cv2_imshow(img_flip)"
      ],
      "metadata": {
        "id": "lXvOQBKdNR8X"
      },
      "execution_count": null,
      "outputs": []
    },
    {
      "cell_type": "code",
      "source": [
        "img_crop = img[0:200, 0:300]\n",
        "cv2_imshow(img_crop)"
      ],
      "metadata": {
        "id": "rDBtvEwnNkeG"
      },
      "execution_count": null,
      "outputs": []
    }
  ]
}